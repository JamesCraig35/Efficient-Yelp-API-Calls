{
 "cells": [
  {
   "cell_type": "code",
   "execution_count": 1,
   "id": "0cefdfc8",
   "metadata": {},
   "outputs": [],
   "source": [
    "import json\n",
    "import pandas as pd\n",
    "from yelpapi import YelpAPI"
   ]
  },
  {
   "cell_type": "code",
   "execution_count": 2,
   "id": "f6d9833a",
   "metadata": {},
   "outputs": [],
   "source": [
    "# Load API Credentials\n",
    "with open('/Users/James/OneDrive/Desktop/yelp_api.json') as f:   #use your path here!\n",
    "    login = json.load(f)\n",
    "# Instantiate YelpAPI Variable\n",
    "yelp_api = YelpAPI(login['api-key'], timeout_s=5.0)"
   ]
  },
  {
   "cell_type": "code",
   "execution_count": 3,
   "id": "d844043d",
   "metadata": {},
   "outputs": [
    {
     "data": {
      "text/plain": [
       "dict_keys(['client-id', 'api-key'])"
      ]
     },
     "execution_count": 3,
     "metadata": {},
     "output_type": "execute_result"
    }
   ],
   "source": [
    "with open(\"/Users/James/OneDrive/Desktop/yelp_api.json\") as f:\n",
    "    login = json.load(f)\n",
    "login.keys()"
   ]
  },
  {
   "cell_type": "code",
   "execution_count": 4,
   "id": "4c9748f2",
   "metadata": {},
   "outputs": [
    {
     "data": {
      "text/plain": [
       "<yelpapi.yelpapi.YelpAPI at 0x29a9e0680d0>"
      ]
     },
     "execution_count": 4,
     "metadata": {},
     "output_type": "execute_result"
    }
   ],
   "source": [
    "yelp_api = YelpAPI(login['api-key'], timeout_s=5.0)\n",
    "yelp_api"
   ]
  },
  {
   "cell_type": "code",
   "execution_count": 5,
   "id": "0825dc9a",
   "metadata": {},
   "outputs": [
    {
     "data": {
      "text/plain": [
       "dict_keys(['businesses', 'total', 'region'])"
      ]
     },
     "execution_count": 5,
     "metadata": {},
     "output_type": "execute_result"
    }
   ],
   "source": [
    "results = yelp_api.search_query(location='Denver, CO',\n",
    "                                       term='Green Chili')\n",
    "type(results)\n",
    "results.keys()"
   ]
  },
  {
   "cell_type": "code",
   "execution_count": 6,
   "id": "1ff35953",
   "metadata": {},
   "outputs": [
    {
     "data": {
      "text/plain": [
       "'Data/results_in_progress_Denver_Green_Chili.json'"
      ]
     },
     "execution_count": 6,
     "metadata": {},
     "output_type": "execute_result"
    }
   ],
   "source": [
    "JSON_FILE = \"Data/results_in_progress_Denver_Green_Chili.json\"\n",
    "JSON_FILE"
   ]
  },
  {
   "cell_type": "code",
   "execution_count": 7,
   "id": "8f13889e",
   "metadata": {},
   "outputs": [],
   "source": [
    "# Standard Imports\n",
    "import numpy as np\n",
    "import pandas as pd\n",
    "import matplotlib.pyplot as plt\n",
    "import seaborn as sns\n",
    "# Additional Imports\n",
    "import os, json, math, time\n",
    "from yelpapi import YelpAPI\n",
    "from tqdm.notebook import tqdm_notebook"
   ]
  },
  {
   "cell_type": "code",
   "execution_count": 8,
   "id": "9fc5e8d9",
   "metadata": {},
   "outputs": [
    {
     "name": "stdout",
     "output_type": "stream",
     "text": [
      "[i] Data/results_in_progress_Denver_Green_Chili.json not found. Saving empty list to file.\n"
     ]
    }
   ],
   "source": [
    "## Check if JSON_FILE exists\n",
    "file_exists = os.path.isfile(JSON_FILE)\n",
    "## If it does not exist: \n",
    "if file_exists == False:\n",
    "    \n",
    "    ## CREATE ANY NEEDED FOLDERS\n",
    "    # Get the Folder Name only\n",
    "    folder = os.path.dirname(JSON_FILE)\n",
    "    ## If JSON_FILE included a folder:\n",
    "    if len(folder)>0:\n",
    "        # create the folder\n",
    "        os.makedirs(folder,exist_ok=True)\n",
    "        \n",
    "        \n",
    "    ## INFORM USER AND SAVE EMPTY LIST\n",
    "    print(f'[i] {JSON_FILE} not found. Saving empty list to file.')\n",
    "    \n",
    "    \n",
    "    # save an empty list\n",
    "    with open(JSON_FILE,'w') as f:\n",
    "        json.dump([],f)  \n",
    "# If it exists, inform user\n",
    "else:\n",
    "    print(f\"[i] {JSON_FILE} already exists.\")"
   ]
  },
  {
   "cell_type": "code",
   "execution_count": 9,
   "id": "86dfd135",
   "metadata": {},
   "outputs": [
    {
     "name": "stdout",
     "output_type": "stream",
     "text": [
      "- 0 previous results found.\n"
     ]
    }
   ],
   "source": [
    "## Load previous results and use len of results for offset\n",
    "with open(JSON_FILE,'r') as f:\n",
    "    previous_results = json.load(f)\n",
    "    \n",
    "## set offset based on previous results\n",
    "n_results = len(previous_results)\n",
    "print(f'- {n_results} previous results found.')"
   ]
  },
  {
   "cell_type": "code",
   "execution_count": 13,
   "id": "8267eac1",
   "metadata": {},
   "outputs": [
    {
     "data": {
      "text/plain": [
       "dict_keys(['businesses', 'total', 'region'])"
      ]
     },
     "execution_count": 13,
     "metadata": {},
     "output_type": "execute_result"
    }
   ],
   "source": [
    "# use our yelp_api variable's search_query method to perform our API call\n",
    "LOCATION = 'Denver'\n",
    "TERM = 'Green Chili'\n",
    "# use our yelp_api variable's search_query method to perform our API call\n",
    "results = yelp_api.search_query(location=LOCATION,\n",
    "                                term=TERM,\n",
    "                               offset=n_results)\n",
    "results.keys()\n",
    "\n"
   ]
  },
  {
   "cell_type": "code",
   "execution_count": 14,
   "id": "cfbde61f",
   "metadata": {},
   "outputs": [
    {
     "data": {
      "text/plain": [
       "683"
      ]
     },
     "execution_count": 14,
     "metadata": {},
     "output_type": "execute_result"
    }
   ],
   "source": [
    "## How many results total?\n",
    "total_results = results['total']\n",
    "total_results"
   ]
  },
  {
   "cell_type": "code",
   "execution_count": 15,
   "id": "e01f8bb9",
   "metadata": {},
   "outputs": [
    {
     "data": {
      "text/plain": [
       "20"
      ]
     },
     "execution_count": 15,
     "metadata": {},
     "output_type": "execute_result"
    }
   ],
   "source": [
    "## How many did we get the details for?\n",
    "results_per_page = len(results['businesses'])\n",
    "results_per_page"
   ]
  },
  {
   "cell_type": "code",
   "execution_count": 16,
   "id": "aec25e4c",
   "metadata": {},
   "outputs": [
    {
     "data": {
      "text/plain": [
       "35"
      ]
     },
     "execution_count": 16,
     "metadata": {},
     "output_type": "execute_result"
    }
   ],
   "source": [
    "# Import additional packages for controlling our loop\n",
    "import time, math\n",
    "# Use math.ceil to round up for the total number of pages of results.\n",
    "n_pages = math.ceil((results['total']-n_results)/ results_per_page)\n",
    "n_pages"
   ]
  },
  {
   "cell_type": "code",
   "execution_count": 17,
   "id": "67d67c53",
   "metadata": {},
   "outputs": [],
   "source": [
    "# join new results with old list with extend and save to file\n",
    "previous_results.extend(results['businesses'])  \n",
    "with open(JSON_FILE,'w') as f:\n",
    "     json.dump(previous_results,f)"
   ]
  },
  {
   "cell_type": "code",
   "execution_count": 18,
   "id": "dfd7c76b",
   "metadata": {},
   "outputs": [
    {
     "data": {
      "application/vnd.jupyter.widget-view+json": {
       "model_id": "505da8501e624810a60c231a71a61557",
       "version_major": 2,
       "version_minor": 0
      },
      "text/plain": [
       "  0%|          | 0/35 [00:00<?, ?it/s]"
      ]
     },
     "metadata": {},
     "output_type": "display_data"
    }
   ],
   "source": [
    "from tqdm.notebook import tqdm_notebook\n",
    "import time\n",
    "for i in tqdm_notebook(range(n_pages)):\n",
    "    # adds 200 ms pause\n",
    "    time.sleep(.2) "
   ]
  },
  {
   "cell_type": "code",
   "execution_count": 19,
   "id": "a5205555",
   "metadata": {},
   "outputs": [
    {
     "data": {
      "application/vnd.jupyter.widget-view+json": {
       "model_id": "f62e8fa47a88472b857a412c33a7ce19",
       "version_major": 2,
       "version_minor": 0
      },
      "text/plain": [
       "  0%|          | 0/35 [00:00<?, ?it/s]"
      ]
     },
     "metadata": {},
     "output_type": "display_data"
    }
   ],
   "source": [
    "for i in tqdm_notebook( range(1,n_pages+1)):\n",
    "    \n",
    "    ## Read in results in progress file and check the length\n",
    "    with open(JSON_FILE, 'r') as f:\n",
    "        previous_results = json.load(f)\n",
    "    ## save number of results for to use as offset\n",
    "    n_results = len(previous_results)\n",
    "    ## use n_results as the OFFSET \n",
    "    results = yelp_api.search_query(location=LOCATION,\n",
    "                                    term=TERM, \n",
    "                                    offset=n_results)\n",
    "    \n",
    "    ## append new results and save to file\n",
    "    previous_results.extend(results['businesses'])\n",
    "    \n",
    "    with open(JSON_FILE,'w') as f:\n",
    "        json.dump(previous_results,f)\n",
    "    \n",
    "    # add a 200ms pause\n",
    "    time.sleep(.2)"
   ]
  },
  {
   "cell_type": "code",
   "execution_count": 20,
   "id": "fec49edf",
   "metadata": {},
   "outputs": [
    {
     "data": {
      "text/plain": [
       "False"
      ]
     },
     "execution_count": 20,
     "metadata": {},
     "output_type": "execute_result"
    }
   ],
   "source": [
    "## delete file and confirm it no longer exits.\n",
    "os.remove(JSON_FILE)\n",
    "os.path.isfile(JSON_FILE)"
   ]
  },
  {
   "cell_type": "code",
   "execution_count": 21,
   "id": "03a38c4b",
   "metadata": {},
   "outputs": [],
   "source": [
    "def create_json_file(JSON_FILE,  delete_if_exists=False):\n",
    "    \n",
    "    ## Check if JSON_FILE exists\n",
    "    file_exists = os.path.isfile(JSON_FILE)\n",
    "    \n",
    "    ## If it DOES exist:\n",
    "    if file_exists == True:\n",
    "        \n",
    "        ## Check if user wants to delete if exists\n",
    "        if delete_if_exists==True:\n",
    "            \n",
    "            print(f\"[!] {JSON_FILE} already exists. Deleting previous file...\")\n",
    "            ## delete file and confirm it no longer exits.\n",
    "            os.remove(JSON_FILE)\n",
    "            ## Recursive call to function after old file deleted\n",
    "            create_json_file(JSON_FILE,delete_if_exists=False)\n",
    "        else:\n",
    "            print(f\"[i] {JSON_FILE} already exists.\")            \n",
    "            \n",
    "            \n",
    "    ## If it does NOT exist:\n",
    "    else:\n",
    "        \n",
    "        ## INFORM USER AND SAVE EMPTY LIST\n",
    "        print(f\"[i] {JSON_FILE} not found. Saving empty list to new file.\")\n",
    "        \n",
    "        ## CREATE ANY NEEDED FOLDERS\n",
    "        # Get the Folder Name only\n",
    "        folder = os.path.dirname(JSON_FILE)\n",
    "        \n",
    "        ## If JSON_FILE included a folder:\n",
    "        if len(folder)>0:\n",
    "            # create the folder\n",
    "            os.makedirs(folder,exist_ok=True)\n",
    "        ## Save empty list to start the json file\n",
    "        with open(JSON_FILE,'w') as f:\n",
    "            json.dump([],f)  "
   ]
  },
  {
   "cell_type": "code",
   "execution_count": 22,
   "id": "3bcfe3d2",
   "metadata": {},
   "outputs": [
    {
     "name": "stdout",
     "output_type": "stream",
     "text": [
      "[i] Data/results_in_progress_Denver_Green_Chili.json not found. Saving empty list to new file.\n",
      "- 0 previous results found.\n"
     ]
    },
    {
     "data": {
      "text/plain": [
       "35"
      ]
     },
     "execution_count": 22,
     "metadata": {},
     "output_type": "execute_result"
    }
   ],
   "source": [
    "## Create a new empty json file (exist the previous if it exists)\n",
    "create_json_file(JSON_FILE, delete_if_exists=True)\n",
    "## Load previous results and use len of results for offset\n",
    "with open(JSON_FILE,'r') as f:\n",
    "    previous_results = json.load(f)\n",
    "    \n",
    "## set offset based on previous results\n",
    "n_results = len(previous_results)\n",
    "print(f'- {n_results} previous results found.')\n",
    "# use our yelp_api variable's search_query method to perform our API call\n",
    "results = yelp_api.search_query(location=LOCATION,\n",
    "                                term=TERM,\n",
    "                               offset=n_results)\n",
    "## How many results total?\n",
    "total_results = results['total']\n",
    "## How many did we get the details for?\n",
    "results_per_page = len(results['businesses'])\n",
    "# Use math.ceil to round up for the total number of pages of results.\n",
    "n_pages = math.ceil((results['total']-n_results)/ results_per_page)\n",
    "n_pages"
   ]
  },
  {
   "cell_type": "code",
   "execution_count": 23,
   "id": "5fca751f",
   "metadata": {},
   "outputs": [
    {
     "data": {
      "application/vnd.jupyter.widget-view+json": {
       "model_id": "7dae2e07a6574f31badbae9485d42d07",
       "version_major": 2,
       "version_minor": 0
      },
      "text/plain": [
       "  0%|          | 0/35 [00:00<?, ?it/s]"
      ]
     },
     "metadata": {},
     "output_type": "display_data"
    }
   ],
   "source": [
    "for i in tqdm_notebook( range(1,n_pages+1)):\n",
    "    \n",
    "    ## Read in results in progress file and check the length\n",
    "    with open(JSON_FILE, 'r') as f:\n",
    "        previous_results = json.load(f)\n",
    "    ## save number of results for to use as offset\n",
    "    n_results = len(previous_results)\n",
    "    \n",
    "    if (n_results + results_per_page) > 1000:\n",
    "        print('Exceeded 1000 api calls. Stopping loop.')\n",
    "        break\n",
    "    \n",
    "    ## use n_results as the OFFSET \n",
    "    results = yelp_api.search_query(location=LOCATION,\n",
    "                                    term=TERM, \n",
    "                                    offset=n_results)\n",
    "    \n",
    "    \n",
    "    \n",
    "    ## append new results and save to file\n",
    "    previous_results.extend(results['businesses'])\n",
    "    \n",
    "    # display(previous_results)\n",
    "    with open(JSON_FILE,'w') as f:\n",
    "        json.dump(previous_results,f)\n",
    "    \n",
    "    time.sleep(.2)"
   ]
  },
  {
   "cell_type": "code",
   "execution_count": 24,
   "id": "a82cdbee",
   "metadata": {},
   "outputs": [
    {
     "data": {
      "text/html": [
       "<div>\n",
       "<style scoped>\n",
       "    .dataframe tbody tr th:only-of-type {\n",
       "        vertical-align: middle;\n",
       "    }\n",
       "\n",
       "    .dataframe tbody tr th {\n",
       "        vertical-align: top;\n",
       "    }\n",
       "\n",
       "    .dataframe thead th {\n",
       "        text-align: right;\n",
       "    }\n",
       "</style>\n",
       "<table border=\"1\" class=\"dataframe\">\n",
       "  <thead>\n",
       "    <tr style=\"text-align: right;\">\n",
       "      <th></th>\n",
       "      <th>id</th>\n",
       "      <th>alias</th>\n",
       "      <th>name</th>\n",
       "      <th>image_url</th>\n",
       "      <th>is_closed</th>\n",
       "      <th>url</th>\n",
       "      <th>review_count</th>\n",
       "      <th>categories</th>\n",
       "      <th>rating</th>\n",
       "      <th>coordinates</th>\n",
       "      <th>transactions</th>\n",
       "      <th>price</th>\n",
       "      <th>location</th>\n",
       "      <th>phone</th>\n",
       "      <th>display_phone</th>\n",
       "      <th>distance</th>\n",
       "    </tr>\n",
       "  </thead>\n",
       "  <tbody>\n",
       "    <tr>\n",
       "      <th>0</th>\n",
       "      <td>WTe8uL6vF1ZuKAeJIvxR8w</td>\n",
       "      <td>la-loma-denver-denver</td>\n",
       "      <td>La Loma | Denver</td>\n",
       "      <td>https://s3-media4.fl.yelpcdn.com/bphoto/pJngNB...</td>\n",
       "      <td>False</td>\n",
       "      <td>https://www.yelp.com/biz/la-loma-denver-denver...</td>\n",
       "      <td>1886</td>\n",
       "      <td>[{'alias': 'mexican', 'title': 'Mexican'}, {'a...</td>\n",
       "      <td>4.0</td>\n",
       "      <td>{'latitude': 39.74493, 'longitude': -104.98781}</td>\n",
       "      <td>[delivery, pickup]</td>\n",
       "      <td>$$</td>\n",
       "      <td>{'address1': '1801 Broadway', 'address2': 'Uni...</td>\n",
       "      <td>+13034338300</td>\n",
       "      <td>(303) 433-8300</td>\n",
       "      <td>1831.625871</td>\n",
       "    </tr>\n",
       "    <tr>\n",
       "      <th>1</th>\n",
       "      <td>K2fzLQ4DjVQvwYRokP4kDA</td>\n",
       "      <td>park-avenue-tacos-denver</td>\n",
       "      <td>Park Avenue Tacos</td>\n",
       "      <td>https://s3-media1.fl.yelpcdn.com/bphoto/FfFv2L...</td>\n",
       "      <td>False</td>\n",
       "      <td>https://www.yelp.com/biz/park-avenue-tacos-den...</td>\n",
       "      <td>28</td>\n",
       "      <td>[{'alias': 'bars', 'title': 'Bars'}, {'alias':...</td>\n",
       "      <td>4.5</td>\n",
       "      <td>{'latitude': 39.740503, 'longitude': -104.97252}</td>\n",
       "      <td>[delivery, pickup]</td>\n",
       "      <td>NaN</td>\n",
       "      <td>{'address1': '1521 N Marion St', 'address2': '...</td>\n",
       "      <td>+17203612137</td>\n",
       "      <td>(720) 361-2137</td>\n",
       "      <td>592.267347</td>\n",
       "    </tr>\n",
       "    <tr>\n",
       "      <th>2</th>\n",
       "      <td>fbb7fsCGVMVkavIMm7_8KQ</td>\n",
       "      <td>taqueria-la-familia-denver</td>\n",
       "      <td>Taqueria La Familia</td>\n",
       "      <td>https://s3-media2.fl.yelpcdn.com/bphoto/VkLvsn...</td>\n",
       "      <td>False</td>\n",
       "      <td>https://www.yelp.com/biz/taqueria-la-familia-d...</td>\n",
       "      <td>456</td>\n",
       "      <td>[{'alias': 'mexican', 'title': 'Mexican'}]</td>\n",
       "      <td>4.5</td>\n",
       "      <td>{'latitude': 39.761887, 'longitude': -105.020065}</td>\n",
       "      <td>[delivery]</td>\n",
       "      <td>$$</td>\n",
       "      <td>{'address1': '2642 W 32nd Ave', 'address2': ''...</td>\n",
       "      <td>+13034332332</td>\n",
       "      <td>(303) 433-2332</td>\n",
       "      <td>5170.503060</td>\n",
       "    </tr>\n",
       "    <tr>\n",
       "      <th>3</th>\n",
       "      <td>5-Y6ioHcfRy-eCBZtU6rHw</td>\n",
       "      <td>venalonzos-centennial-2</td>\n",
       "      <td>Venalonzo's</td>\n",
       "      <td>https://s3-media3.fl.yelpcdn.com/bphoto/5ovmws...</td>\n",
       "      <td>False</td>\n",
       "      <td>https://www.yelp.com/biz/venalonzos-centennial...</td>\n",
       "      <td>249</td>\n",
       "      <td>[{'alias': 'tacos', 'title': 'Tacos'}, {'alias...</td>\n",
       "      <td>5.0</td>\n",
       "      <td>{'latitude': 39.5920055, 'longitude': -104.886...</td>\n",
       "      <td>[]</td>\n",
       "      <td>$</td>\n",
       "      <td>{'address1': '6830 S Yosemite St', 'address2':...</td>\n",
       "      <td>+17209236926</td>\n",
       "      <td>(720) 923-6926</td>\n",
       "      <td>17415.141562</td>\n",
       "    </tr>\n",
       "    <tr>\n",
       "      <th>4</th>\n",
       "      <td>ZoxDX4vbjDANTmf-kRX0zQ</td>\n",
       "      <td>casa-don-juan-denver</td>\n",
       "      <td>Casa Don Juan</td>\n",
       "      <td>https://s3-media1.fl.yelpcdn.com/bphoto/Td3y1n...</td>\n",
       "      <td>False</td>\n",
       "      <td>https://www.yelp.com/biz/casa-don-juan-denver?...</td>\n",
       "      <td>101</td>\n",
       "      <td>[{'alias': 'mexican', 'title': 'Mexican'}]</td>\n",
       "      <td>4.5</td>\n",
       "      <td>{'latitude': 39.7892643527715, 'longitude': -1...</td>\n",
       "      <td>[delivery, pickup]</td>\n",
       "      <td>NaN</td>\n",
       "      <td>{'address1': '5106 Washington St', 'address2':...</td>\n",
       "      <td>+17203534846</td>\n",
       "      <td>(720) 353-4846</td>\n",
       "      <td>6012.229176</td>\n",
       "    </tr>\n",
       "  </tbody>\n",
       "</table>\n",
       "</div>"
      ],
      "text/plain": [
       "                       id                       alias                 name  \\\n",
       "0  WTe8uL6vF1ZuKAeJIvxR8w       la-loma-denver-denver     La Loma | Denver   \n",
       "1  K2fzLQ4DjVQvwYRokP4kDA    park-avenue-tacos-denver    Park Avenue Tacos   \n",
       "2  fbb7fsCGVMVkavIMm7_8KQ  taqueria-la-familia-denver  Taqueria La Familia   \n",
       "3  5-Y6ioHcfRy-eCBZtU6rHw     venalonzos-centennial-2          Venalonzo's   \n",
       "4  ZoxDX4vbjDANTmf-kRX0zQ        casa-don-juan-denver        Casa Don Juan   \n",
       "\n",
       "                                           image_url  is_closed  \\\n",
       "0  https://s3-media4.fl.yelpcdn.com/bphoto/pJngNB...      False   \n",
       "1  https://s3-media1.fl.yelpcdn.com/bphoto/FfFv2L...      False   \n",
       "2  https://s3-media2.fl.yelpcdn.com/bphoto/VkLvsn...      False   \n",
       "3  https://s3-media3.fl.yelpcdn.com/bphoto/5ovmws...      False   \n",
       "4  https://s3-media1.fl.yelpcdn.com/bphoto/Td3y1n...      False   \n",
       "\n",
       "                                                 url  review_count  \\\n",
       "0  https://www.yelp.com/biz/la-loma-denver-denver...          1886   \n",
       "1  https://www.yelp.com/biz/park-avenue-tacos-den...            28   \n",
       "2  https://www.yelp.com/biz/taqueria-la-familia-d...           456   \n",
       "3  https://www.yelp.com/biz/venalonzos-centennial...           249   \n",
       "4  https://www.yelp.com/biz/casa-don-juan-denver?...           101   \n",
       "\n",
       "                                          categories  rating  \\\n",
       "0  [{'alias': 'mexican', 'title': 'Mexican'}, {'a...     4.0   \n",
       "1  [{'alias': 'bars', 'title': 'Bars'}, {'alias':...     4.5   \n",
       "2         [{'alias': 'mexican', 'title': 'Mexican'}]     4.5   \n",
       "3  [{'alias': 'tacos', 'title': 'Tacos'}, {'alias...     5.0   \n",
       "4         [{'alias': 'mexican', 'title': 'Mexican'}]     4.5   \n",
       "\n",
       "                                         coordinates        transactions  \\\n",
       "0    {'latitude': 39.74493, 'longitude': -104.98781}  [delivery, pickup]   \n",
       "1   {'latitude': 39.740503, 'longitude': -104.97252}  [delivery, pickup]   \n",
       "2  {'latitude': 39.761887, 'longitude': -105.020065}          [delivery]   \n",
       "3  {'latitude': 39.5920055, 'longitude': -104.886...                  []   \n",
       "4  {'latitude': 39.7892643527715, 'longitude': -1...  [delivery, pickup]   \n",
       "\n",
       "  price                                           location         phone  \\\n",
       "0    $$  {'address1': '1801 Broadway', 'address2': 'Uni...  +13034338300   \n",
       "1   NaN  {'address1': '1521 N Marion St', 'address2': '...  +17203612137   \n",
       "2    $$  {'address1': '2642 W 32nd Ave', 'address2': ''...  +13034332332   \n",
       "3     $  {'address1': '6830 S Yosemite St', 'address2':...  +17209236926   \n",
       "4   NaN  {'address1': '5106 Washington St', 'address2':...  +17203534846   \n",
       "\n",
       "    display_phone      distance  \n",
       "0  (303) 433-8300   1831.625871  \n",
       "1  (720) 361-2137    592.267347  \n",
       "2  (303) 433-2332   5170.503060  \n",
       "3  (720) 923-6926  17415.141562  \n",
       "4  (720) 353-4846   6012.229176  "
      ]
     },
     "metadata": {},
     "output_type": "display_data"
    },
    {
     "data": {
      "text/html": [
       "<div>\n",
       "<style scoped>\n",
       "    .dataframe tbody tr th:only-of-type {\n",
       "        vertical-align: middle;\n",
       "    }\n",
       "\n",
       "    .dataframe tbody tr th {\n",
       "        vertical-align: top;\n",
       "    }\n",
       "\n",
       "    .dataframe thead th {\n",
       "        text-align: right;\n",
       "    }\n",
       "</style>\n",
       "<table border=\"1\" class=\"dataframe\">\n",
       "  <thead>\n",
       "    <tr style=\"text-align: right;\">\n",
       "      <th></th>\n",
       "      <th>id</th>\n",
       "      <th>alias</th>\n",
       "      <th>name</th>\n",
       "      <th>image_url</th>\n",
       "      <th>is_closed</th>\n",
       "      <th>url</th>\n",
       "      <th>review_count</th>\n",
       "      <th>categories</th>\n",
       "      <th>rating</th>\n",
       "      <th>coordinates</th>\n",
       "      <th>transactions</th>\n",
       "      <th>price</th>\n",
       "      <th>location</th>\n",
       "      <th>phone</th>\n",
       "      <th>display_phone</th>\n",
       "      <th>distance</th>\n",
       "    </tr>\n",
       "  </thead>\n",
       "  <tbody>\n",
       "    <tr>\n",
       "      <th>677</th>\n",
       "      <td>eoO4Fwjt5PnDjoNz6A8W6A</td>\n",
       "      <td>chipotle-mexican-grill-lone-tree-5</td>\n",
       "      <td>Chipotle Mexican Grill</td>\n",
       "      <td>https://s3-media2.fl.yelpcdn.com/bphoto/5MDZ9G...</td>\n",
       "      <td>False</td>\n",
       "      <td>https://www.yelp.com/biz/chipotle-mexican-gril...</td>\n",
       "      <td>95</td>\n",
       "      <td>[{'alias': 'mexican', 'title': 'Mexican'}, {'a...</td>\n",
       "      <td>2.5</td>\n",
       "      <td>{'latitude': 39.53712395324733, 'longitude': -...</td>\n",
       "      <td>[delivery, pickup]</td>\n",
       "      <td>$</td>\n",
       "      <td>{'address1': '9500 Heritage Hills Cir', 'addre...</td>\n",
       "      <td>+13037920611</td>\n",
       "      <td>(303) 792-0611</td>\n",
       "      <td>23390.409715</td>\n",
       "    </tr>\n",
       "    <tr>\n",
       "      <th>678</th>\n",
       "      <td>k7SOpDoSevoADOajJbchEg</td>\n",
       "      <td>chipotle-mexican-grill-aurora-7</td>\n",
       "      <td>Chipotle Mexican Grill</td>\n",
       "      <td>https://s3-media2.fl.yelpcdn.com/bphoto/e1CfV_...</td>\n",
       "      <td>False</td>\n",
       "      <td>https://www.yelp.com/biz/chipotle-mexican-gril...</td>\n",
       "      <td>130</td>\n",
       "      <td>[{'alias': 'mexican', 'title': 'Mexican'}, {'a...</td>\n",
       "      <td>2.0</td>\n",
       "      <td>{'latitude': 39.604272012876336, 'longitude': ...</td>\n",
       "      <td>[delivery, pickup]</td>\n",
       "      <td>$</td>\n",
       "      <td>{'address1': '24100 E Commons Ave', 'address2'...</td>\n",
       "      <td>+13034003855</td>\n",
       "      <td>(303) 400-3855</td>\n",
       "      <td>26802.845805</td>\n",
       "    </tr>\n",
       "    <tr>\n",
       "      <th>679</th>\n",
       "      <td>7gZHiYGfRB6mChsqfeeO7Q</td>\n",
       "      <td>chipotle-mexican-grill-parker</td>\n",
       "      <td>Chipotle Mexican Grill</td>\n",
       "      <td>https://s3-media4.fl.yelpcdn.com/bphoto/F9xWip...</td>\n",
       "      <td>False</td>\n",
       "      <td>https://www.yelp.com/biz/chipotle-mexican-gril...</td>\n",
       "      <td>147</td>\n",
       "      <td>[{'alias': 'mexican', 'title': 'Mexican'}, {'a...</td>\n",
       "      <td>2.0</td>\n",
       "      <td>{'latitude': 39.518703, 'longitude': -104.770403}</td>\n",
       "      <td>[delivery, pickup]</td>\n",
       "      <td>$</td>\n",
       "      <td>{'address1': '18701 E Mainstreet', 'address2':...</td>\n",
       "      <td>+17208515050</td>\n",
       "      <td>(720) 851-5050</td>\n",
       "      <td>29566.734061</td>\n",
       "    </tr>\n",
       "    <tr>\n",
       "      <th>680</th>\n",
       "      <td>0gpK7_BMz1wU7sbrxBu79g</td>\n",
       "      <td>chipotle-mexican-grill-aurora-2</td>\n",
       "      <td>Chipotle Mexican Grill</td>\n",
       "      <td>https://s3-media4.fl.yelpcdn.com/bphoto/n3aHZb...</td>\n",
       "      <td>False</td>\n",
       "      <td>https://www.yelp.com/biz/chipotle-mexican-gril...</td>\n",
       "      <td>120</td>\n",
       "      <td>[{'alias': 'mexican', 'title': 'Mexican'}, {'a...</td>\n",
       "      <td>2.0</td>\n",
       "      <td>{'latitude': 39.6402042077806, 'longitude': -1...</td>\n",
       "      <td>[pickup, delivery]</td>\n",
       "      <td>$</td>\n",
       "      <td>{'address1': '4205 S Buckley Rd', 'address2': ...</td>\n",
       "      <td>+17208703342</td>\n",
       "      <td>(720) 870-3342</td>\n",
       "      <td>18569.999489</td>\n",
       "    </tr>\n",
       "    <tr>\n",
       "      <th>681</th>\n",
       "      <td>bqXPhcn6MRcMNLrGvlCUEw</td>\n",
       "      <td>chipotle-mexican-grill-louisville-4</td>\n",
       "      <td>Chipotle Mexican Grill</td>\n",
       "      <td>https://s3-media3.fl.yelpcdn.com/bphoto/JNtc3V...</td>\n",
       "      <td>False</td>\n",
       "      <td>https://www.yelp.com/biz/chipotle-mexican-gril...</td>\n",
       "      <td>70</td>\n",
       "      <td>[{'alias': 'mexican', 'title': 'Mexican'}, {'a...</td>\n",
       "      <td>3.0</td>\n",
       "      <td>{'latitude': 39.966218, 'longitude': -105.1639...</td>\n",
       "      <td>[pickup, delivery]</td>\n",
       "      <td>$</td>\n",
       "      <td>{'address1': '375 Mccaslin Blvd', 'address2': ...</td>\n",
       "      <td>+17208900670</td>\n",
       "      <td>(720) 890-0670</td>\n",
       "      <td>30520.656698</td>\n",
       "    </tr>\n",
       "  </tbody>\n",
       "</table>\n",
       "</div>"
      ],
      "text/plain": [
       "                         id                                alias  \\\n",
       "677  eoO4Fwjt5PnDjoNz6A8W6A   chipotle-mexican-grill-lone-tree-5   \n",
       "678  k7SOpDoSevoADOajJbchEg      chipotle-mexican-grill-aurora-7   \n",
       "679  7gZHiYGfRB6mChsqfeeO7Q        chipotle-mexican-grill-parker   \n",
       "680  0gpK7_BMz1wU7sbrxBu79g      chipotle-mexican-grill-aurora-2   \n",
       "681  bqXPhcn6MRcMNLrGvlCUEw  chipotle-mexican-grill-louisville-4   \n",
       "\n",
       "                       name  \\\n",
       "677  Chipotle Mexican Grill   \n",
       "678  Chipotle Mexican Grill   \n",
       "679  Chipotle Mexican Grill   \n",
       "680  Chipotle Mexican Grill   \n",
       "681  Chipotle Mexican Grill   \n",
       "\n",
       "                                             image_url  is_closed  \\\n",
       "677  https://s3-media2.fl.yelpcdn.com/bphoto/5MDZ9G...      False   \n",
       "678  https://s3-media2.fl.yelpcdn.com/bphoto/e1CfV_...      False   \n",
       "679  https://s3-media4.fl.yelpcdn.com/bphoto/F9xWip...      False   \n",
       "680  https://s3-media4.fl.yelpcdn.com/bphoto/n3aHZb...      False   \n",
       "681  https://s3-media3.fl.yelpcdn.com/bphoto/JNtc3V...      False   \n",
       "\n",
       "                                                   url  review_count  \\\n",
       "677  https://www.yelp.com/biz/chipotle-mexican-gril...            95   \n",
       "678  https://www.yelp.com/biz/chipotle-mexican-gril...           130   \n",
       "679  https://www.yelp.com/biz/chipotle-mexican-gril...           147   \n",
       "680  https://www.yelp.com/biz/chipotle-mexican-gril...           120   \n",
       "681  https://www.yelp.com/biz/chipotle-mexican-gril...            70   \n",
       "\n",
       "                                            categories  rating  \\\n",
       "677  [{'alias': 'mexican', 'title': 'Mexican'}, {'a...     2.5   \n",
       "678  [{'alias': 'mexican', 'title': 'Mexican'}, {'a...     2.0   \n",
       "679  [{'alias': 'mexican', 'title': 'Mexican'}, {'a...     2.0   \n",
       "680  [{'alias': 'mexican', 'title': 'Mexican'}, {'a...     2.0   \n",
       "681  [{'alias': 'mexican', 'title': 'Mexican'}, {'a...     3.0   \n",
       "\n",
       "                                           coordinates        transactions  \\\n",
       "677  {'latitude': 39.53712395324733, 'longitude': -...  [delivery, pickup]   \n",
       "678  {'latitude': 39.604272012876336, 'longitude': ...  [delivery, pickup]   \n",
       "679  {'latitude': 39.518703, 'longitude': -104.770403}  [delivery, pickup]   \n",
       "680  {'latitude': 39.6402042077806, 'longitude': -1...  [pickup, delivery]   \n",
       "681  {'latitude': 39.966218, 'longitude': -105.1639...  [pickup, delivery]   \n",
       "\n",
       "    price                                           location         phone  \\\n",
       "677     $  {'address1': '9500 Heritage Hills Cir', 'addre...  +13037920611   \n",
       "678     $  {'address1': '24100 E Commons Ave', 'address2'...  +13034003855   \n",
       "679     $  {'address1': '18701 E Mainstreet', 'address2':...  +17208515050   \n",
       "680     $  {'address1': '4205 S Buckley Rd', 'address2': ...  +17208703342   \n",
       "681     $  {'address1': '375 Mccaslin Blvd', 'address2': ...  +17208900670   \n",
       "\n",
       "      display_phone      distance  \n",
       "677  (303) 792-0611  23390.409715  \n",
       "678  (303) 400-3855  26802.845805  \n",
       "679  (720) 851-5050  29566.734061  \n",
       "680  (720) 870-3342  18569.999489  \n",
       "681  (720) 890-0670  30520.656698  "
      ]
     },
     "metadata": {},
     "output_type": "display_data"
    }
   ],
   "source": [
    "# load final results\n",
    "final_df = pd.read_json(JSON_FILE)\n",
    "display(final_df.head(), final_df.tail())"
   ]
  },
  {
   "cell_type": "code",
   "execution_count": 26,
   "id": "abc03821",
   "metadata": {},
   "outputs": [
    {
     "data": {
      "text/plain": [
       "0"
      ]
     },
     "execution_count": 26,
     "metadata": {},
     "output_type": "execute_result"
    }
   ],
   "source": [
    "# check for duplicate results\n",
    "final_df.duplicated(subset='id').sum()"
   ]
  },
  {
   "cell_type": "code",
   "execution_count": 28,
   "id": "ebce94a2",
   "metadata": {},
   "outputs": [
    {
     "name": "stdout",
     "output_type": "stream",
     "text": [
      "<class 'pandas.core.frame.DataFrame'>\n",
      "RangeIndex: 682 entries, 0 to 681\n",
      "Data columns (total 16 columns):\n",
      " #   Column         Non-Null Count  Dtype  \n",
      "---  ------         --------------  -----  \n",
      " 0   id             682 non-null    object \n",
      " 1   alias          682 non-null    object \n",
      " 2   name           682 non-null    object \n",
      " 3   image_url      682 non-null    object \n",
      " 4   is_closed      682 non-null    bool   \n",
      " 5   url            682 non-null    object \n",
      " 6   review_count   682 non-null    int64  \n",
      " 7   categories     682 non-null    object \n",
      " 8   rating         682 non-null    float64\n",
      " 9   coordinates    682 non-null    object \n",
      " 10  transactions   682 non-null    object \n",
      " 11  price          528 non-null    object \n",
      " 12  location       682 non-null    object \n",
      " 13  phone          682 non-null    object \n",
      " 14  display_phone  682 non-null    object \n",
      " 15  distance       682 non-null    float64\n",
      "dtypes: bool(1), float64(2), int64(1), object(12)\n",
      "memory usage: 80.7+ KB\n"
     ]
    }
   ],
   "source": [
    "final_df.info()"
   ]
  },
  {
   "cell_type": "code",
   "execution_count": 30,
   "id": "d4d5303c",
   "metadata": {},
   "outputs": [],
   "source": [
    "# save the final results to a compressed csv\n",
    "final_df.to_csv('Data/results_in_progress_Denver_Green_Chili.csv.gz', compression='gzip',index=False)"
   ]
  },
  {
   "cell_type": "code",
   "execution_count": 32,
   "id": "eacde79f",
   "metadata": {},
   "outputs": [
    {
     "name": "stdout",
     "output_type": "stream",
     "text": [
      "<class 'pandas.core.frame.DataFrame'>\n",
      "RangeIndex: 682 entries, 0 to 681\n",
      "Data columns (total 16 columns):\n",
      " #   Column         Non-Null Count  Dtype  \n",
      "---  ------         --------------  -----  \n",
      " 0   id             682 non-null    object \n",
      " 1   alias          682 non-null    object \n",
      " 2   name           682 non-null    object \n",
      " 3   image_url      680 non-null    object \n",
      " 4   is_closed      682 non-null    bool   \n",
      " 5   url            682 non-null    object \n",
      " 6   review_count   682 non-null    int64  \n",
      " 7   categories     682 non-null    object \n",
      " 8   rating         682 non-null    float64\n",
      " 9   coordinates    682 non-null    object \n",
      " 10  transactions   682 non-null    object \n",
      " 11  price          528 non-null    object \n",
      " 12  location       682 non-null    object \n",
      " 13  phone          665 non-null    float64\n",
      " 14  display_phone  665 non-null    object \n",
      " 15  distance       682 non-null    float64\n",
      "dtypes: bool(1), float64(3), int64(1), object(11)\n",
      "memory usage: 80.7+ KB\n"
     ]
    }
   ],
   "source": [
    "df = pd.read_csv('Data/results_in_progress_Denver_Green_Chili.csv.gz')\n",
    "df.info()"
   ]
  }
 ],
 "metadata": {
  "kernelspec": {
   "display_name": "Python (dojo-env)",
   "language": "python",
   "name": "dojo-env"
  },
  "language_info": {
   "codemirror_mode": {
    "name": "ipython",
    "version": 3
   },
   "file_extension": ".py",
   "mimetype": "text/x-python",
   "name": "python",
   "nbconvert_exporter": "python",
   "pygments_lexer": "ipython3",
   "version": "3.11.5"
  }
 },
 "nbformat": 4,
 "nbformat_minor": 5
}
